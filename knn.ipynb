{
 "cells": [
  {
   "cell_type": "code",
   "execution_count": 2,
   "metadata": {
    "colab": {},
    "colab_type": "code",
    "executionInfo": {
     "elapsed": 3220,
     "status": "ok",
     "timestamp": 1593590896607,
     "user": {
      "displayName": "Velery Virgina",
      "photoUrl": "",
      "userId": "07418393866871418759"
     },
     "user_tz": -420
    },
    "id": "Z2iZ5yzIYpLw"
   },
   "outputs": [],
   "source": [
    "import pandas as pd\n",
    "import numpy as np\n",
    "\n",
    "import matplotlib.pyplot as plt\n",
    "import seaborn as sns\n",
    "\n",
    "from sklearn.neighbors import KNeighborsClassifier\n",
    "from sklearn.metrics import classification_report\n",
    "from sklearn.model_selection import train_test_split\n",
    "from sklearn.metrics import accuracy_score\n",
    "from sklearn.model_selection import GridSearchCV\n",
    "\n",
    "import warnings\n",
    "warnings.filterwarnings('ignore')"
   ]
  },
  {
   "cell_type": "code",
   "execution_count": 3,
   "metadata": {
    "colab": {
     "base_uri": "https://localhost:8080/",
     "height": 197
    },
    "colab_type": "code",
    "executionInfo": {
     "elapsed": 3140,
     "status": "ok",
     "timestamp": 1593590896610,
     "user": {
      "displayName": "Velery Virgina",
      "photoUrl": "",
      "userId": "07418393866871418759"
     },
     "user_tz": -420
    },
    "id": "EUVnSQ_qYwOK",
    "outputId": "b4b79f20-d27e-43f9-af85-531ead65236e"
   },
   "outputs": [
    {
     "data": {
      "text/html": [
       "<div>\n",
       "<style scoped>\n",
       "    .dataframe tbody tr th:only-of-type {\n",
       "        vertical-align: middle;\n",
       "    }\n",
       "\n",
       "    .dataframe tbody tr th {\n",
       "        vertical-align: top;\n",
       "    }\n",
       "\n",
       "    .dataframe thead th {\n",
       "        text-align: right;\n",
       "    }\n",
       "</style>\n",
       "<table border=\"1\" class=\"dataframe\">\n",
       "  <thead>\n",
       "    <tr style=\"text-align: right;\">\n",
       "      <th></th>\n",
       "      <th>CA 125</th>\n",
       "      <th>Haemoglobin</th>\n",
       "      <th>Leukocytes</th>\n",
       "      <th>Haematocrit</th>\n",
       "      <th>Platelets</th>\n",
       "      <th>Outcome</th>\n",
       "    </tr>\n",
       "  </thead>\n",
       "  <tbody>\n",
       "    <tr>\n",
       "      <th>0</th>\n",
       "      <td>445</td>\n",
       "      <td>10</td>\n",
       "      <td>26300</td>\n",
       "      <td>31</td>\n",
       "      <td>254000</td>\n",
       "      <td>1</td>\n",
       "    </tr>\n",
       "    <tr>\n",
       "      <th>1</th>\n",
       "      <td>62</td>\n",
       "      <td>11</td>\n",
       "      <td>7600</td>\n",
       "      <td>39</td>\n",
       "      <td>298000</td>\n",
       "      <td>1</td>\n",
       "    </tr>\n",
       "    <tr>\n",
       "      <th>2</th>\n",
       "      <td>40</td>\n",
       "      <td>14</td>\n",
       "      <td>6900</td>\n",
       "      <td>42</td>\n",
       "      <td>437000</td>\n",
       "      <td>1</td>\n",
       "    </tr>\n",
       "    <tr>\n",
       "      <th>3</th>\n",
       "      <td>8</td>\n",
       "      <td>12</td>\n",
       "      <td>11300</td>\n",
       "      <td>36</td>\n",
       "      <td>222000</td>\n",
       "      <td>0</td>\n",
       "    </tr>\n",
       "    <tr>\n",
       "      <th>4</th>\n",
       "      <td>69</td>\n",
       "      <td>12</td>\n",
       "      <td>10400</td>\n",
       "      <td>35</td>\n",
       "      <td>239000</td>\n",
       "      <td>1</td>\n",
       "    </tr>\n",
       "  </tbody>\n",
       "</table>\n",
       "</div>"
      ],
      "text/plain": [
       "   CA 125  Haemoglobin  Leukocytes  Haematocrit  Platelets  Outcome\n",
       "0     445           10       26300           31     254000        1\n",
       "1      62           11        7600           39     298000        1\n",
       "2      40           14        6900           42     437000        1\n",
       "3       8           12       11300           36     222000        0\n",
       "4      69           12       10400           35     239000        1"
      ]
     },
     "execution_count": 3,
     "metadata": {},
     "output_type": "execute_result"
    }
   ],
   "source": [
    "df = pd.read_csv(\"C:/Users/HP/Documents/ovarian.csv\")\n",
    "df.head()"
   ]
  },
  {
   "cell_type": "code",
   "execution_count": 4,
   "metadata": {
    "colab": {},
    "colab_type": "code",
    "executionInfo": {
     "elapsed": 3114,
     "status": "ok",
     "timestamp": 1593590896622,
     "user": {
      "displayName": "Velery Virgina",
      "photoUrl": "",
      "userId": "07418393866871418759"
     },
     "user_tz": -420
    },
    "id": "_9n6S8C9Y3QB"
   },
   "outputs": [],
   "source": [
    "#Membuat object KNN\n",
    "knn = KNeighborsClassifier()"
   ]
  },
  {
   "cell_type": "code",
   "execution_count": 5,
   "metadata": {
    "colab": {},
    "colab_type": "code",
    "executionInfo": {
     "elapsed": 3068,
     "status": "ok",
     "timestamp": 1593590896623,
     "user": {
      "displayName": "Velery Virgina",
      "photoUrl": "",
      "userId": "07418393866871418759"
     },
     "user_tz": -420
    },
    "id": "9bqXbcE-Y9ZN"
   },
   "outputs": [],
   "source": [
    "#Membuat variable x dan y\n",
    "x = df.drop(columns=['Outcome'])\n",
    "y = df['Outcome']"
   ]
  },
  {
   "cell_type": "code",
   "execution_count": 198,
   "metadata": {
    "colab": {},
    "colab_type": "code",
    "executionInfo": {
     "elapsed": 3047,
     "status": "ok",
     "timestamp": 1593590896625,
     "user": {
      "displayName": "Velery Virgina",
      "photoUrl": "",
      "userId": "07418393866871418759"
     },
     "user_tz": -420
    },
    "id": "qcBeViKPZBkh"
   },
   "outputs": [],
   "source": [
    "#Split data kedalam training dan testin\n",
    "x_train, x_test, y_train, y_test = train_test_split(x, y, test_size=0.8, random_state=17)"
   ]
  },
  {
   "cell_type": "code",
   "execution_count": 199,
   "metadata": {
    "colab": {
     "base_uri": "https://localhost:8080/",
     "height": 70
    },
    "colab_type": "code",
    "executionInfo": {
     "elapsed": 2905,
     "status": "ok",
     "timestamp": 1593590896627,
     "user": {
      "displayName": "Velery Virgina",
      "photoUrl": "",
      "userId": "07418393866871418759"
     },
     "user_tz": -420
    },
    "id": "hkpBaqzfZGYe",
    "outputId": "2f3a2161-c6d2-4e3e-da26-9d1d22164af1"
   },
   "outputs": [
    {
     "data": {
      "text/plain": [
       "KNeighborsClassifier(algorithm='auto', leaf_size=30, metric='minkowski',\n",
       "           metric_params=None, n_jobs=1, n_neighbors=5, p=2,\n",
       "           weights='uniform')"
      ]
     },
     "execution_count": 199,
     "metadata": {},
     "output_type": "execute_result"
    }
   ],
   "source": [
    "\n",
    "#Training the model\n",
    "knn.fit(x_train, y_train)"
   ]
  },
  {
   "cell_type": "code",
   "execution_count": 200,
   "metadata": {
    "colab": {},
    "colab_type": "code",
    "executionInfo": {
     "elapsed": 2866,
     "status": "ok",
     "timestamp": 1593590896629,
     "user": {
      "displayName": "Velery Virgina",
      "photoUrl": "",
      "userId": "07418393866871418759"
     },
     "user_tz": -420
    },
    "id": "1nPW5rsuZJwz"
   },
   "outputs": [],
   "source": [
    "#Predict testing set\n",
    "y_pred = knn.predict(x_test)"
   ]
  },
  {
   "cell_type": "code",
   "execution_count": 201,
   "metadata": {
    "colab": {
     "base_uri": "https://localhost:8080/",
     "height": 194
    },
    "colab_type": "code",
    "executionInfo": {
     "elapsed": 2751,
     "status": "ok",
     "timestamp": 1593590896632,
     "user": {
      "displayName": "Velery Virgina",
      "photoUrl": "",
      "userId": "07418393866871418759"
     },
     "user_tz": -420
    },
    "id": "xDKMgVVPZNrN",
    "outputId": "6be0a41e-2801-48dc-ad8a-fe142d95eb91"
   },
   "outputs": [
    {
     "name": "stdout",
     "output_type": "stream",
     "text": [
      "             precision    recall  f1-score   support\n",
      "\n",
      "          0       0.42      0.32      0.36        57\n",
      "          1       0.68      0.76      0.72       106\n",
      "\n",
      "avg / total       0.59      0.61      0.59       163\n",
      "\n"
     ]
    },
    {
     "data": {
      "text/plain": [
       "0.6073619631901841"
      ]
     },
     "execution_count": 201,
     "metadata": {},
     "output_type": "execute_result"
    }
   ],
   "source": [
    "\n",
    "#Check performa model menggunakan classification_report\n",
    "print(classification_report(y_test, y_pred))\n",
    "#Check performa dari model menggunakan auc score\n",
    "accuracy_score(y_test, y_pred)"
   ]
  },
  {
   "cell_type": "code",
   "execution_count": 202,
   "metadata": {
    "colab": {},
    "colab_type": "code",
    "executionInfo": {
     "elapsed": 2714,
     "status": "ok",
     "timestamp": 1593590896637,
     "user": {
      "displayName": "Velery Virgina",
      "photoUrl": "",
      "userId": "07418393866871418759"
     },
     "user_tz": -420
    },
    "id": "0xpw5ZvYZTLV"
   },
   "outputs": [],
   "source": [
    "#List Hyperparameters yang akan diui\n",
    "leaf_size = list(range(1,10))\n",
    "n_neighbors = list(range(7,10))"
   ]
  },
  {
   "cell_type": "code",
   "execution_count": 203,
   "metadata": {
    "colab": {},
    "colab_type": "code",
    "executionInfo": {
     "elapsed": 2663,
     "status": "ok",
     "timestamp": 1593590896639,
     "user": {
      "displayName": "Velery Virgina",
      "photoUrl": "",
      "userId": "07418393866871418759"
     },
     "user_tz": -420
    },
    "id": "X9e4mWw5Zs-Y"
   },
   "outputs": [],
   "source": [
    "\n",
    "#Menjadikan ke dalam bentuk dictionary\n",
    "hyperparameters = dict(leaf_size=leaf_size, n_neighbors=n_neighbors)"
   ]
  },
  {
   "cell_type": "code",
   "execution_count": 204,
   "metadata": {
    "colab": {},
    "colab_type": "code",
    "executionInfo": {
     "elapsed": 2550,
     "status": "ok",
     "timestamp": 1593590896641,
     "user": {
      "displayName": "Velery Virgina",
      "photoUrl": "",
      "userId": "07418393866871418759"
     },
     "user_tz": -420
    },
    "id": "T848ooBnZvJ3"
   },
   "outputs": [],
   "source": [
    "knn_2 = KNeighborsClassifier()"
   ]
  },
  {
   "cell_type": "code",
   "execution_count": 205,
   "metadata": {
    "colab": {},
    "colab_type": "code",
    "executionInfo": {
     "elapsed": 2528,
     "status": "ok",
     "timestamp": 1593590896643,
     "user": {
      "displayName": "Velery Virgina",
      "photoUrl": "",
      "userId": "07418393866871418759"
     },
     "user_tz": -420
    },
    "id": "rto5vgaNZw9E"
   },
   "outputs": [],
   "source": [
    "#cv itu cross validation\n",
    "clf = GridSearchCV(knn_2, hyperparameters, cv=10)"
   ]
  },
  {
   "cell_type": "code",
   "execution_count": 206,
   "metadata": {
    "colab": {},
    "colab_type": "code",
    "id": "bZXrgX15Zyzg"
   },
   "outputs": [],
   "source": [
    "best_model = clf.fit(x,y)"
   ]
  },
  {
   "cell_type": "code",
   "execution_count": 207,
   "metadata": {
    "colab": {},
    "colab_type": "code",
    "id": "YmhCGW9CZ0zN"
   },
   "outputs": [
    {
     "name": "stdout",
     "output_type": "stream",
     "text": [
      "Best leaf_size: 1\n",
      "Best p: 2\n",
      "Best n_neighbors: 7\n"
     ]
    }
   ],
   "source": [
    "#Nilai hyperpaameters terbaik\n",
    "print('Best leaf_size:', best_model.best_estimator_.get_params()['leaf_size'])\n",
    "print('Best p:', best_model.best_estimator_.get_params()['p'])\n",
    "print('Best n_neighbors:', best_model.best_estimator_.get_params()['n_neighbors'])"
   ]
  },
  {
   "cell_type": "code",
   "execution_count": 208,
   "metadata": {
    "colab": {},
    "colab_type": "code",
    "id": "yo74tNY_Z3zR"
   },
   "outputs": [],
   "source": [
    "y_pred = best_model.predict(x_test)"
   ]
  },
  {
   "cell_type": "code",
   "execution_count": 209,
   "metadata": {
    "colab": {},
    "colab_type": "code",
    "id": "Wfzevt-CZ7jW"
   },
   "outputs": [
    {
     "name": "stdout",
     "output_type": "stream",
     "text": [
      "[[31 26]\n",
      " [14 92]]\n",
      "             precision    recall  f1-score   support\n",
      "\n",
      "          0       0.69      0.54      0.61        57\n",
      "          1       0.78      0.87      0.82       106\n",
      "\n",
      "avg / total       0.75      0.75      0.75       163\n",
      "\n"
     ]
    },
    {
     "data": {
      "text/plain": [
       "0.754601226993865"
      ]
     },
     "execution_count": 209,
     "metadata": {},
     "output_type": "execute_result"
    }
   ],
   "source": [
    "from sklearn.metrics import classification_report, confusion_matrix, accuracy_score, f1_score, recall_score, precision_score\n",
    "print(confusion_matrix(y_test, y_pred))\n",
    "print(classification_report(y_test, y_pred))\n",
    "accuracy_score(y_test, y_pred)"
   ]
  },
  {
   "cell_type": "code",
   "execution_count": 210,
   "metadata": {},
   "outputs": [
    {
     "data": {
      "text/plain": [
       "1    106\n",
       "0     57\n",
       "Name: Outcome, dtype: int64"
      ]
     },
     "execution_count": 210,
     "metadata": {},
     "output_type": "execute_result"
    }
   ],
   "source": [
    "y_test.value_counts()"
   ]
  },
  {
   "cell_type": "code",
   "execution_count": 211,
   "metadata": {},
   "outputs": [
    {
     "data": {
      "text/plain": [
       "0.8214285714285715"
      ]
     },
     "execution_count": 211,
     "metadata": {},
     "output_type": "execute_result"
    }
   ],
   "source": [
    "f1_score(y_test, y_pred)"
   ]
  },
  {
   "cell_type": "code",
   "execution_count": 212,
   "metadata": {},
   "outputs": [
    {
     "data": {
      "text/plain": [
       "0.8679245283018868"
      ]
     },
     "execution_count": 212,
     "metadata": {},
     "output_type": "execute_result"
    }
   ],
   "source": [
    "recall_score(y_test, y_pred)"
   ]
  },
  {
   "cell_type": "code",
   "execution_count": 213,
   "metadata": {},
   "outputs": [
    {
     "data": {
      "text/plain": [
       "0.7796610169491526"
      ]
     },
     "execution_count": 213,
     "metadata": {},
     "output_type": "execute_result"
    }
   ],
   "source": [
    "precision_score(y_test, y_pred)"
   ]
  },
  {
   "cell_type": "code",
   "execution_count": null,
   "metadata": {},
   "outputs": [],
   "source": []
  }
 ],
 "metadata": {
  "colab": {
   "authorship_tag": "ABX9TyPt+dK+KAQZckhOA6v4PSZd",
   "collapsed_sections": [],
   "name": "knn.ipynb",
   "provenance": []
  },
  "kernelspec": {
   "display_name": "Python 3",
   "language": "python",
   "name": "python3"
  },
  "language_info": {
   "codemirror_mode": {
    "name": "ipython",
    "version": 3
   },
   "file_extension": ".py",
   "mimetype": "text/x-python",
   "name": "python",
   "nbconvert_exporter": "python",
   "pygments_lexer": "ipython3",
   "version": "3.8.5"
  }
 },
 "nbformat": 4,
 "nbformat_minor": 1
}
